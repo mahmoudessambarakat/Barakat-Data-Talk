{
 "cells": [
  {
   "cell_type": "code",
   "execution_count": 1,
   "id": "5b2f2985-5661-4373-aeb2-e2374eafdaeb",
   "metadata": {},
   "outputs": [
    {
     "name": "stdout",
     "output_type": "stream",
     "text": [
      "help\n"
     ]
    }
   ],
   "source": [
    "print('help')"
   ]
  },
  {
   "cell_type": "code",
   "execution_count": null,
   "id": "3139c3ee-f7c6-4cfe-b2ed-bbd1e1470054",
   "metadata": {},
   "outputs": [],
   "source": []
  }
 ],
 "metadata": {
  "kernelspec": {
   "display_name": "Python 3 (ipykernel)",
   "language": "python",
   "name": "python3"
  },
  "language_info": {
   "codemirror_mode": {
    "name": "ipython",
    "version": 3
   },
   "file_extension": ".py",
   "mimetype": "text/x-python",
   "name": "python",
   "nbconvert_exporter": "python",
   "pygments_lexer": "ipython3",
   "version": "3.10.13"
  }
 },
 "nbformat": 4,
 "nbformat_minor": 5
}
